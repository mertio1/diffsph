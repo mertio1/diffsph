{
 "cells": [
  {
   "cell_type": "code",
   "execution_count": 1,
   "id": "c863bdb1",
   "metadata": {},
   "outputs": [
    {
     "ename": "ModuleNotFoundError",
     "evalue": "No module named 'pandas'",
     "output_type": "error",
     "traceback": [
      "\u001b[0;31m---------------------------------------------------------------------------\u001b[0m",
      "\u001b[0;31mModuleNotFoundError\u001b[0m                       Traceback (most recent call last)",
      "Cell \u001b[0;32mIn [1], line 1\u001b[0m\n\u001b[0;32m----> 1\u001b[0m \u001b[38;5;28;01mimport\u001b[39;00m \u001b[38;5;21;01mpandas\u001b[39;00m \u001b[38;5;28;01mas\u001b[39;00m \u001b[38;5;21;01mpd\u001b[39;00m\n",
      "\u001b[0;31mModuleNotFoundError\u001b[0m: No module named 'pandas'"
     ]
    }
   ],
   "source": [
    "import pandas as pd"
   ]
  },
  {
   "cell_type": "code",
   "execution_count": 9,
   "id": "f2435c8f",
   "metadata": {},
   "outputs": [],
   "source": [
    "WWI = pd.read_csv('channel/twothirds/WW2by3I.csv' , header = None , low_memory = False)\n",
    "WWII = pd.read_csv('WW2by3II.csv', header = None)\n",
    "WW = pd.concat([WWI , WWII])"
   ]
  },
  {
   "cell_type": "code",
   "execution_count": 8,
   "id": "003fb307",
   "metadata": {},
   "outputs": [
    {
     "data": {
      "text/html": [
       "<div>\n",
       "<style scoped>\n",
       "    .dataframe tbody tr th:only-of-type {\n",
       "        vertical-align: middle;\n",
       "    }\n",
       "\n",
       "    .dataframe tbody tr th {\n",
       "        vertical-align: top;\n",
       "    }\n",
       "\n",
       "    .dataframe thead th {\n",
       "        text-align: right;\n",
       "    }\n",
       "</style>\n",
       "<table border=\"1\" class=\"dataframe\">\n",
       "  <thead>\n",
       "    <tr style=\"text-align: right;\">\n",
       "      <th></th>\n",
       "      <th>0</th>\n",
       "    </tr>\n",
       "  </thead>\n",
       "  <tbody>\n",
       "    <tr>\n",
       "      <th>0</th>\n",
       "      <td>-3.1851956188883714</td>\n",
       "    </tr>\n",
       "    <tr>\n",
       "      <th>1</th>\n",
       "      <td>-2.427723802683217</td>\n",
       "    </tr>\n",
       "    <tr>\n",
       "      <th>2</th>\n",
       "      <td>-2.177184728862306</td>\n",
       "    </tr>\n",
       "    <tr>\n",
       "      <th>3</th>\n",
       "      <td>-2.009971891997208</td>\n",
       "    </tr>\n",
       "    <tr>\n",
       "      <th>4</th>\n",
       "      <td>-1.7811579147462062</td>\n",
       "    </tr>\n",
       "    <tr>\n",
       "      <th>...</th>\n",
       "      <td>...</td>\n",
       "    </tr>\n",
       "    <tr>\n",
       "      <th>577341</th>\n",
       "      <td>-291.5400194506225</td>\n",
       "    </tr>\n",
       "    <tr>\n",
       "      <th>577342</th>\n",
       "      <td>-280.74492967547815</td>\n",
       "    </tr>\n",
       "    <tr>\n",
       "      <th>577343</th>\n",
       "      <td>-280.1798939381949</td>\n",
       "    </tr>\n",
       "    <tr>\n",
       "      <th>577344</th>\n",
       "      <td>-279.9304095029303</td>\n",
       "    </tr>\n",
       "    <tr>\n",
       "      <th>577345</th>\n",
       "      <td>-279.77476897028</td>\n",
       "    </tr>\n",
       "  </tbody>\n",
       "</table>\n",
       "<p>577346 rows × 1 columns</p>\n",
       "</div>"
      ],
      "text/plain": [
       "                          0\n",
       "0       -3.1851956188883714\n",
       "1        -2.427723802683217\n",
       "2        -2.177184728862306\n",
       "3        -2.009971891997208\n",
       "4       -1.7811579147462062\n",
       "...                     ...\n",
       "577341   -291.5400194506225\n",
       "577342  -280.74492967547815\n",
       "577343   -280.1798939381949\n",
       "577344   -279.9304095029303\n",
       "577345     -279.77476897028\n",
       "\n",
       "[577346 rows x 1 columns]"
      ]
     },
     "execution_count": 8,
     "metadata": {},
     "output_type": "execute_result"
    }
   ],
   "source": [
    "nunuI"
   ]
  },
  {
   "cell_type": "code",
   "execution_count": 4,
   "id": "8a2f6c48",
   "metadata": {},
   "outputs": [
    {
     "data": {
      "text/html": [
       "<div>\n",
       "<style scoped>\n",
       "    .dataframe tbody tr th:only-of-type {\n",
       "        vertical-align: middle;\n",
       "    }\n",
       "\n",
       "    .dataframe tbody tr th {\n",
       "        vertical-align: top;\n",
       "    }\n",
       "\n",
       "    .dataframe thead th {\n",
       "        text-align: right;\n",
       "    }\n",
       "</style>\n",
       "<table border=\"1\" class=\"dataframe\">\n",
       "  <thead>\n",
       "    <tr style=\"text-align: right;\">\n",
       "      <th></th>\n",
       "      <th>0</th>\n",
       "    </tr>\n",
       "  </thead>\n",
       "  <tbody>\n",
       "    <tr>\n",
       "      <th>0</th>\n",
       "      <td>-0.675868</td>\n",
       "    </tr>\n",
       "    <tr>\n",
       "      <th>1</th>\n",
       "      <td>-0.638764</td>\n",
       "    </tr>\n",
       "    <tr>\n",
       "      <th>2</th>\n",
       "      <td>-0.606582</td>\n",
       "    </tr>\n",
       "    <tr>\n",
       "      <th>3</th>\n",
       "      <td>-0.578273</td>\n",
       "    </tr>\n",
       "    <tr>\n",
       "      <th>4</th>\n",
       "      <td>-0.552437</td>\n",
       "    </tr>\n",
       "    <tr>\n",
       "      <th>...</th>\n",
       "      <td>...</td>\n",
       "    </tr>\n",
       "    <tr>\n",
       "      <th>603584</th>\n",
       "      <td>-278.305349</td>\n",
       "    </tr>\n",
       "    <tr>\n",
       "      <th>603585</th>\n",
       "      <td>-240.891195</td>\n",
       "    </tr>\n",
       "    <tr>\n",
       "      <th>603586</th>\n",
       "      <td>-240.384654</td>\n",
       "    </tr>\n",
       "    <tr>\n",
       "      <th>603587</th>\n",
       "      <td>-236.587983</td>\n",
       "    </tr>\n",
       "    <tr>\n",
       "      <th>603588</th>\n",
       "      <td>-235.916043</td>\n",
       "    </tr>\n",
       "  </tbody>\n",
       "</table>\n",
       "<p>603589 rows × 1 columns</p>\n",
       "</div>"
      ],
      "text/plain": [
       "                 0\n",
       "0        -0.675868\n",
       "1        -0.638764\n",
       "2        -0.606582\n",
       "3        -0.578273\n",
       "4        -0.552437\n",
       "...            ...\n",
       "603584 -278.305349\n",
       "603585 -240.891195\n",
       "603586 -240.384654\n",
       "603587 -236.587983\n",
       "603588 -235.916043\n",
       "\n",
       "[603589 rows x 1 columns]"
      ]
     },
     "execution_count": 4,
     "metadata": {},
     "output_type": "execute_result"
    }
   ],
   "source": [
    "nunuII"
   ]
  },
  {
   "cell_type": "code",
   "execution_count": 10,
   "id": "0f1764c8",
   "metadata": {},
   "outputs": [
    {
     "data": {
      "text/html": [
       "<div>\n",
       "<style scoped>\n",
       "    .dataframe tbody tr th:only-of-type {\n",
       "        vertical-align: middle;\n",
       "    }\n",
       "\n",
       "    .dataframe tbody tr th {\n",
       "        vertical-align: top;\n",
       "    }\n",
       "\n",
       "    .dataframe thead th {\n",
       "        text-align: right;\n",
       "    }\n",
       "</style>\n",
       "<table border=\"1\" class=\"dataframe\">\n",
       "  <thead>\n",
       "    <tr style=\"text-align: right;\">\n",
       "      <th></th>\n",
       "      <th>0</th>\n",
       "    </tr>\n",
       "  </thead>\n",
       "  <tbody>\n",
       "    <tr>\n",
       "      <th>0</th>\n",
       "      <td>-3.1851956188883714</td>\n",
       "    </tr>\n",
       "    <tr>\n",
       "      <th>1</th>\n",
       "      <td>-2.427723802683217</td>\n",
       "    </tr>\n",
       "    <tr>\n",
       "      <th>2</th>\n",
       "      <td>-2.177184728862306</td>\n",
       "    </tr>\n",
       "    <tr>\n",
       "      <th>3</th>\n",
       "      <td>-2.009971891997208</td>\n",
       "    </tr>\n",
       "    <tr>\n",
       "      <th>4</th>\n",
       "      <td>-1.7811579147462062</td>\n",
       "    </tr>\n",
       "    <tr>\n",
       "      <th>...</th>\n",
       "      <td>...</td>\n",
       "    </tr>\n",
       "    <tr>\n",
       "      <th>603584</th>\n",
       "      <td>-278.305</td>\n",
       "    </tr>\n",
       "    <tr>\n",
       "      <th>603585</th>\n",
       "      <td>-240.891</td>\n",
       "    </tr>\n",
       "    <tr>\n",
       "      <th>603586</th>\n",
       "      <td>-240.385</td>\n",
       "    </tr>\n",
       "    <tr>\n",
       "      <th>603587</th>\n",
       "      <td>-236.588</td>\n",
       "    </tr>\n",
       "    <tr>\n",
       "      <th>603588</th>\n",
       "      <td>-235.916</td>\n",
       "    </tr>\n",
       "  </tbody>\n",
       "</table>\n",
       "<p>1180935 rows × 1 columns</p>\n",
       "</div>"
      ],
      "text/plain": [
       "                          0\n",
       "0       -3.1851956188883714\n",
       "1        -2.427723802683217\n",
       "2        -2.177184728862306\n",
       "3        -2.009971891997208\n",
       "4       -1.7811579147462062\n",
       "...                     ...\n",
       "603584             -278.305\n",
       "603585             -240.891\n",
       "603586             -240.385\n",
       "603587             -236.588\n",
       "603588             -235.916\n",
       "\n",
       "[1180935 rows x 1 columns]"
      ]
     },
     "execution_count": 10,
     "metadata": {},
     "output_type": "execute_result"
    }
   ],
   "source": [
    "nunu"
   ]
  },
  {
   "cell_type": "code",
   "execution_count": 12,
   "id": "19272869",
   "metadata": {},
   "outputs": [
    {
     "data": {
      "text/plain": [
       "0"
      ]
     },
     "execution_count": 12,
     "metadata": {},
     "output_type": "execute_result"
    }
   ],
   "source": [
    "len(nunu)-(len(nunuI)+len(nunuII))"
   ]
  },
  {
   "cell_type": "code",
   "execution_count": 15,
   "id": "862b6b73",
   "metadata": {},
   "outputs": [],
   "source": [
    "nunu.to_csv(\"sixth/nunusixth.csv\",header=False, index=False)"
   ]
  },
  {
   "cell_type": "code",
   "execution_count": null,
   "id": "61145d6f",
   "metadata": {},
   "outputs": [],
   "source": []
  }
 ],
 "metadata": {
  "kernelspec": {
   "display_name": "Python 3 (ipykernel)",
   "language": "python",
   "name": "python3"
  },
  "language_info": {
   "codemirror_mode": {
    "name": "ipython",
    "version": 3
   },
   "file_extension": ".py",
   "mimetype": "text/x-python",
   "name": "python",
   "nbconvert_exporter": "python",
   "pygments_lexer": "ipython3",
   "version": "3.9.6"
  }
 },
 "nbformat": 4,
 "nbformat_minor": 5
}
